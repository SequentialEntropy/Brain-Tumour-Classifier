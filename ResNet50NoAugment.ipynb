{
 "cells": [
  {
   "cell_type": "markdown",
   "metadata": {},
   "source": [
    "# ResNet50 Model\n",
    "\n",
    "Before running this notebook, please make sure to run the `AugmentAndSplit.ipynb` notebook beforehand.\n",
    "\n",
    "## This notebook has the following sections:\n",
    "\n",
    "1. Prerequisites\n",
    "\n",
    "2. Grid Search\n",
    "\n",
    "3. Training using the Best Hyperparameters\n",
    "\n",
    "4. Model Evaluation using a Confusion Matrix\n",
    "\n",
    "5. Model Evaluation using K-Fold Cross Validation"
   ]
  },
  {
   "cell_type": "markdown",
   "metadata": {},
   "source": [
    "# Section 1 - Prerequisites\n",
    "\n",
    "In this section, we will import all the necessary libraries to run the notebook, define constants and invariants, and define the architecture of our model."
   ]
  },
  {
   "cell_type": "code",
   "execution_count": 1,
   "metadata": {},
   "outputs": [
    {
     "name": "stdout",
     "output_type": "stream",
     "text": [
      "python 3.11.5 (main, Sep 11 2023, 08:31:25) [Clang 14.0.6 ]\n",
      "matplotlib 3.10.0\n",
      "pandas 2.2.3\n",
      "numpy 1.26.4\n",
      "keras 3.9.0\n",
      "tensorflow 2.15.0\n",
      "sklearn 1.3.1\n",
      "scikeras 0.13.0\n"
     ]
    }
   ],
   "source": [
    "\"\"\"\n",
    "Log dependency versions for reproducibility\n",
    "\"\"\"\n",
    "import sys\n",
    "print(\"python\",  sys.version)\n",
    "import matplotlib\n",
    "print(\"matplotlib\", matplotlib.__version__)\n",
    "import pandas\n",
    "print(\"pandas\", pandas.__version__)\n",
    "import numpy\n",
    "print(\"numpy\", numpy.__version__)\n",
    "import keras\n",
    "print(\"keras\", keras.__version__)\n",
    "import tensorflow\n",
    "print(\"tensorflow\", tensorflow.__version__)\n",
    "import sklearn\n",
    "print(\"sklearn\", sklearn.__version__)\n",
    "import scikeras\n",
    "print(\"scikeras\", scikeras.__version__)"
   ]
  },
  {
   "cell_type": "code",
   "execution_count": 1,
   "metadata": {},
   "outputs": [],
   "source": [
    "import numpy as np\n",
    "import matplotlib.pyplot as plt\n",
    "import tensorflow as tf\n",
    "import pandas as pd\n",
    "\n",
    "# Loading Datasets and Models\n",
    "from keras.utils import image_dataset_from_directory\n",
    "from keras.saving import load_model\n",
    "\n",
    "# Saving Results\n",
    "import os\n",
    "import json\n",
    "\n",
    "# Building our Model\n",
    "from keras import Sequential\n",
    "from keras.layers import GlobalAveragePooling2D, Dense, Dropout\n",
    "from keras.applications.resnet50 import ResNet50, preprocess_input # ResNet50\n",
    "\n",
    "# Compiling our Model\n",
    "from keras.optimizers import SGD, Adam, RMSprop\n",
    "\n",
    "# Grid Search\n",
    "from scikeras.wrappers import KerasClassifier\n",
    "from sklearn.model_selection import GridSearchCV\n",
    "\n",
    "# Confusion Matrix\n",
    "from sklearn.metrics import ConfusionMatrixDisplay, confusion_matrix\n",
    "\n",
    "# K-Fold\n",
    "from sklearn.model_selection import KFold"
   ]
  },
  {
   "cell_type": "code",
   "execution_count": 8,
   "metadata": {},
   "outputs": [],
   "source": [
    "\"\"\"\n",
    "Constants and Invariant Parameters\n",
    "\"\"\"\n",
    "# Invariant parameters\n",
    "BATCH_SIZE = 16\n",
    "EPOCHS = 10 # Due to limited hardware, we will only compute up to 10 epochs for realistic runtime constraints\n",
    "VALIDATION_SPLIT = 0.2\n",
    "SEED = 42\n",
    "\n",
    "# Model tuning and evaluation\n",
    "GRID_SEARCH_ITERATIONS = 3 # Number of attempts per hyperparameter combination (the score of these attempts will be averaged)\n",
    "K_FOLDS = 5\n",
    "\n",
    "# Constants\n",
    "IMAGE_SIZE = (150, 150)\n",
    "OPTIMIZERS = {\n",
    "    \"Adam\": Adam,\n",
    "    \"SGD\": SGD,\n",
    "    \"RMSprop\": RMSprop,\n",
    "}\n",
    "\n",
    "# File and directory management\n",
    "INPUT_DIRECTORY = \"brain_tumor_dataset\"\n",
    "TESTING_DIRECTORY = \"testing_dataset\"\n",
    "ORIGINAL_MODEL_NAME = \"ResNet50\"\n",
    "MODEL_NAME = \"ResNet50NoAugment\""
   ]
  },
  {
   "cell_type": "code",
   "execution_count": 5,
   "metadata": {},
   "outputs": [],
   "source": [
    "\"\"\"\n",
    "Define the model architecture\n",
    "\"\"\"\n",
    "resnet = ResNet50(\n",
    "    input_shape=IMAGE_SIZE + tuple([3]), # (150, 150, 3)\n",
    "    weights=\"imagenet\",                  # Use pre-trained weights\n",
    "    include_top=False,                   # Remove top layer to add our own layers\n",
    ")\n",
    "\n",
    "# Freeze the pre-trained weights\n",
    "for layer in resnet.layers:\n",
    "    layer.trainable = False\n",
    "\n",
    "def create_model(optimizer=\"SGD\", learning_rate=0.001):\n",
    "    model = Sequential([\n",
    "        resnet,\n",
    "        GlobalAveragePooling2D(),\n",
    "        Dense(512, activation='relu'),\n",
    "        Dropout(0.2),\n",
    "        Dense(1, activation=\"sigmoid\")\n",
    "    ])\n",
    "\n",
    "    optimizer = OPTIMIZERS[optimizer]\n",
    "\n",
    "    model.compile(\n",
    "        optimizer=optimizer(learning_rate=learning_rate),\n",
    "        loss=\"binary_crossentropy\",\n",
    "        metrics=[\"accuracy\"]\n",
    "    )\n",
    "\n",
    "    return model"
   ]
  },
  {
   "cell_type": "code",
   "execution_count": 11,
   "metadata": {},
   "outputs": [
    {
     "name": "stdout",
     "output_type": "stream",
     "text": [
      "Found 223 files belonging to 2 classes.\n",
      "Using 179 files for training.\n",
      "Found 223 files belonging to 2 classes.\n",
      "Using 44 files for validation.\n"
     ]
    }
   ],
   "source": [
    "\"\"\"\n",
    "Load the training dataset\n",
    "\"\"\"\n",
    "training_dataset = image_dataset_from_directory(\n",
    "    INPUT_DIRECTORY,\n",
    "    image_size=IMAGE_SIZE,\n",
    "    batch_size=BATCH_SIZE,\n",
    "    subset=\"training\",\n",
    "    validation_split=VALIDATION_SPLIT,\n",
    "    seed=SEED,\n",
    ")\n",
    "validation_dataset = image_dataset_from_directory(\n",
    "    INPUT_DIRECTORY,\n",
    "    image_size=IMAGE_SIZE,\n",
    "    batch_size=BATCH_SIZE,\n",
    "    subset=\"validation\",\n",
    "    validation_split=VALIDATION_SPLIT,\n",
    "    seed=SEED,\n",
    ")\n",
    "\n",
    "# Apply ResNet50's image preprocessing\n",
    "training_dataset = training_dataset.map(lambda x, y: (preprocess_input(x), y))\n",
    "validation_dataset = validation_dataset.map(lambda x, y: (preprocess_input(x), y))"
   ]
  },
  {
   "cell_type": "markdown",
   "metadata": {},
   "source": [
    "# Section 3 - Training using the Best Hyperparameters\n",
    "\n",
    "In this section, we will train the model with the best hyperparameters, which were identified by the GridSearch results."
   ]
  },
  {
   "cell_type": "code",
   "execution_count": 12,
   "metadata": {},
   "outputs": [
    {
     "data": {
      "text/plain": [
       "('Adam', 0.001)"
      ]
     },
     "execution_count": 12,
     "metadata": {},
     "output_type": "execute_result"
    }
   ],
   "source": [
    "\"\"\"\n",
    "Load the saved GridSearch results\n",
    "\"\"\"\n",
    "filtered_results = pd.read_csv(os.path.join(ORIGINAL_MODEL_NAME, \"gridsearch.csv\"))\n",
    "\n",
    "# Get the top-ranked result (rank_test_score == 1)\n",
    "best_result = filtered_results[filtered_results[\"rank_test_score\"] == 1].iloc[0]\n",
    "\n",
    "# Extract optimizer and learning rate\n",
    "best_optimizer = best_result[\"param_model__optimizer\"]\n",
    "best_learning_rate = best_result[\"param_model__learning_rate\"]\n",
    "\n",
    "best_optimizer, best_learning_rate"
   ]
  },
  {
   "cell_type": "code",
   "execution_count": 14,
   "metadata": {},
   "outputs": [
    {
     "name": "stdout",
     "output_type": "stream",
     "text": [
      "Epoch 1/10\n",
      "\u001b[1m12/12\u001b[0m \u001b[32m━━━━━━━━━━━━━━━━━━━━\u001b[0m\u001b[37m\u001b[0m \u001b[1m7s\u001b[0m 381ms/step - accuracy: 0.6592 - loss: 1.2904 - val_accuracy: 0.8409 - val_loss: 0.4892\n",
      "Epoch 2/10\n",
      "\u001b[1m12/12\u001b[0m \u001b[32m━━━━━━━━━━━━━━━━━━━━\u001b[0m\u001b[37m\u001b[0m \u001b[1m1s\u001b[0m 118ms/step - accuracy: 0.9266 - loss: 0.1938 - val_accuracy: 0.8409 - val_loss: 0.5900\n",
      "Epoch 3/10\n",
      "\u001b[1m12/12\u001b[0m \u001b[32m━━━━━━━━━━━━━━━━━━━━\u001b[0m\u001b[37m\u001b[0m \u001b[1m1s\u001b[0m 113ms/step - accuracy: 0.9777 - loss: 0.1141 - val_accuracy: 0.8182 - val_loss: 0.6551\n",
      "Epoch 4/10\n",
      "\u001b[1m12/12\u001b[0m \u001b[32m━━━━━━━━━━━━━━━━━━━━\u001b[0m\u001b[37m\u001b[0m \u001b[1m1s\u001b[0m 104ms/step - accuracy: 0.9821 - loss: 0.0738 - val_accuracy: 0.7955 - val_loss: 0.7586\n",
      "Epoch 5/10\n",
      "\u001b[1m12/12\u001b[0m \u001b[32m━━━━━━━━━━━━━━━━━━━━\u001b[0m\u001b[37m\u001b[0m \u001b[1m1s\u001b[0m 114ms/step - accuracy: 0.9901 - loss: 0.0420 - val_accuracy: 0.8409 - val_loss: 0.6925\n",
      "Epoch 6/10\n",
      "\u001b[1m12/12\u001b[0m \u001b[32m━━━━━━━━━━━━━━━━━━━━\u001b[0m\u001b[37m\u001b[0m \u001b[1m1s\u001b[0m 109ms/step - accuracy: 0.9864 - loss: 0.0333 - val_accuracy: 0.8409 - val_loss: 0.7413\n",
      "Epoch 7/10\n",
      "\u001b[1m12/12\u001b[0m \u001b[32m━━━━━━━━━━━━━━━━━━━━\u001b[0m\u001b[37m\u001b[0m \u001b[1m1s\u001b[0m 102ms/step - accuracy: 0.9718 - loss: 0.0406 - val_accuracy: 0.8182 - val_loss: 0.8152\n",
      "Epoch 8/10\n",
      "\u001b[1m12/12\u001b[0m \u001b[32m━━━━━━━━━━━━━━━━━━━━\u001b[0m\u001b[37m\u001b[0m \u001b[1m1s\u001b[0m 119ms/step - accuracy: 0.9933 - loss: 0.0408 - val_accuracy: 0.8409 - val_loss: 1.0108\n",
      "Epoch 9/10\n",
      "\u001b[1m12/12\u001b[0m \u001b[32m━━━━━━━━━━━━━━━━━━━━\u001b[0m\u001b[37m\u001b[0m \u001b[1m1s\u001b[0m 105ms/step - accuracy: 0.9846 - loss: 0.0397 - val_accuracy: 0.8409 - val_loss: 0.8925\n",
      "Epoch 10/10\n",
      "\u001b[1m12/12\u001b[0m \u001b[32m━━━━━━━━━━━━━━━━━━━━\u001b[0m\u001b[37m\u001b[0m \u001b[1m1s\u001b[0m 113ms/step - accuracy: 0.9846 - loss: 0.0416 - val_accuracy: 0.8182 - val_loss: 0.9165\n"
     ]
    }
   ],
   "source": [
    "\"\"\"\n",
    "Create a model with the best-performing hyperparameters identified by the GridSearch results\n",
    "\"\"\"\n",
    "\n",
    "best_model = create_model(\n",
    "    optimizer=best_optimizer,\n",
    "    learning_rate=best_learning_rate,\n",
    ")\n",
    "\n",
    "history = best_model.fit(\n",
    "    training_dataset,\n",
    "    validation_data=validation_dataset,\n",
    "    epochs=EPOCHS\n",
    ")"
   ]
  },
  {
   "cell_type": "code",
   "execution_count": 15,
   "metadata": {},
   "outputs": [
    {
     "data": {
      "image/png": "[encoded data removed]",
      "text/plain": [
       "<Figure size 1200x500 with 2 Axes>"
      ]
     },
     "metadata": {},
     "output_type": "display_data"
    },
    {
     "name": "stdout",
     "output_type": "stream",
     "text": [
      "\u001b[1m3/3\u001b[0m \u001b[32m━━━━━━━━━━━━━━━━━━━━\u001b[0m\u001b[37m\u001b[0m \u001b[1m0s\u001b[0m 88ms/step - accuracy: 0.8232 - loss: 1.1084\n",
      "Test Accuracy: 0.82 Test Loss: 0.92\n"
     ]
    }
   ],
   "source": [
    "\"\"\"\n",
    "Plot Accuracy & Loss for each Epoch\n",
    "\"\"\"\n",
    "plt.figure(figsize=(12, 5))\n",
    "\n",
    "# Epoch vs Accuracy\n",
    "plt.subplot(1, 2, 1)\n",
    "plt.plot(history.history[\"accuracy\"],     label=\"Training Accuracy\")\n",
    "plt.plot(history.history[\"val_accuracy\"], label=\"Validation Accuracy\")\n",
    "plt.legend()\n",
    "plt.xlabel(\"Epoch\")\n",
    "plt.ylabel(\"Accuracy\")\n",
    "plt.title(\"Accuracy\")\n",
    "\n",
    "# Epoch vs Loss\n",
    "plt.subplot(1, 2, 2)\n",
    "plt.plot(history.history[\"loss\"],     label=\"Training Loss\")\n",
    "plt.plot(history.history[\"val_loss\"], label=\"Validation Loss\")\n",
    "plt.legend()\n",
    "plt.xlabel(\"Epoch\")\n",
    "plt.ylabel(\"Loss\")\n",
    "plt.title(\"Loss\")\n",
    "\n",
    "# Ensure directory exists\n",
    "os.makedirs(MODEL_NAME, exist_ok=True)\n",
    "\n",
    "plt.savefig(os.path.join(MODEL_NAME, \"history.png\"))\n",
    "plt.show()\n",
    "\n",
    "# Show Overall Performance\n",
    "test_loss, test_acc = best_model.evaluate(validation_dataset)\n",
    "print(f\"Test Accuracy: {test_acc:.2f} Test Loss: {test_loss:.2f}\")"
   ]
  },
  {
   "cell_type": "code",
   "execution_count": 16,
   "metadata": {},
   "outputs": [],
   "source": [
    "\"\"\"\n",
    "Save model and training history\n",
    "\"\"\"\n",
    "# Ensure directory exists\n",
    "os.makedirs(MODEL_NAME, exist_ok=True)\n",
    "\n",
    "with open(os.path.join(MODEL_NAME, \"history.json\"), \"w\") as file:\n",
    "    json.dump(history.history, file)\n",
    "\n",
    "best_model.save(os.path.join(MODEL_NAME, \"model.keras\"))"
   ]
  },
  {
   "cell_type": "markdown",
   "metadata": {},
   "source": [
    "# Section 4 - Model Evaluation using a Confusion Matrix\n",
    "\n",
    "In this section, we will use the best model from the previous section to create a Confusion Matrix."
   ]
  },
  {
   "cell_type": "code",
   "execution_count": 17,
   "metadata": {},
   "outputs": [],
   "source": [
    "\"\"\"\n",
    "Load the model trained using the best hyperparameters\n",
    "\"\"\"\n",
    "best_model = load_model(os.path.join(MODEL_NAME, \"model.keras\"))"
   ]
  },
  {
   "cell_type": "code",
   "execution_count": 19,
   "metadata": {},
   "outputs": [
    {
     "name": "stdout",
     "output_type": "stream",
     "text": [
      "Found 45 files belonging to 2 classes.\n",
      "\u001b[1m1/1\u001b[0m \u001b[32m━━━━━━━━━━━━━━━━━━━━\u001b[0m\u001b[37m\u001b[0m \u001b[1m0s\u001b[0m 136ms/step\n",
      "\u001b[1m1/1\u001b[0m \u001b[32m━━━━━━━━━━━━━━━━━━━━\u001b[0m\u001b[37m\u001b[0m \u001b[1m0s\u001b[0m 98ms/step\n",
      "\u001b[1m1/1\u001b[0m \u001b[32m━━━━━━━━━━━━━━━━━━━━\u001b[0m\u001b[37m\u001b[0m \u001b[1m0s\u001b[0m 101ms/step\n",
      "Actual Labels:    [1, 0, 0, 0, 1, 0, 1, 1, 1, 0, 1, 1, 1, 1, 0, 1, 1, 1, 1, 1, 0, 1, 1, 1, 1, 1, 1, 1, 0, 1, 0, 0, 0, 1, 1, 0, 1, 1, 1, 1, 1, 1, 1, 0]\n",
      "Predicted Labels: [0, 1, 0, 0, 1, 1, 1, 1, 1, 0, 1, 1, 1, 1, 0, 1, 1, 0, 1, 1, 0, 1, 1, 0, 1, 1, 1, 0, 0, 1, 0, 0, 1, 1, 0, 0, 1, 1, 1, 1, 1, 1, 1, 0]\n"
     ]
    }
   ],
   "source": [
    "\"\"\"\n",
    "Predict each image in the test dataset\n",
    "\"\"\"\n",
    "testing_dataset = image_dataset_from_directory(\n",
    "    TESTING_DIRECTORY,\n",
    "    image_size=IMAGE_SIZE,\n",
    "    batch_size=BATCH_SIZE,\n",
    ")\n",
    "\n",
    "# Apply ResNet50's image preprocessing\n",
    "testing_dataset = testing_dataset.map(lambda x, y: (preprocess_input(x), y))\n",
    "\n",
    "actual = []\n",
    "predictions = []\n",
    "\n",
    "for batch, labels in validation_dataset:\n",
    "    results = best_model.predict(batch)  # Get raw predictions\n",
    "    predicted_labels = (results > 0.5).astype(int).flatten()  # Convert probabilities to 0s and 1s\n",
    "    predictions.extend(predicted_labels)  # Append predicted labels\n",
    "    actual.extend(labels.numpy())  # Convert actual labels to list\n",
    "\n",
    "print(\"Actual Labels:   \", actual)\n",
    "print(\"Predicted Labels:\", predictions)"
   ]
  },
  {
   "cell_type": "code",
   "execution_count": 20,
   "metadata": {},
   "outputs": [
    {
     "data": {
      "image/png": "[encoded data removed]",
      "text/plain": [
       "<Figure size 640x480 with 2 Axes>"
      ]
     },
     "metadata": {},
     "output_type": "display_data"
    },
    {
     "name": "stdout",
     "output_type": "stream",
     "text": [
      "Accuracy: 0.8181818181818182\n"
     ]
    }
   ],
   "source": [
    "\"\"\"\n",
    "Plot a Confusion Matrix of the test dataset predictions\n",
    "\"\"\"\n",
    "result = confusion_matrix(actual, predictions, normalize=\"all\")\n",
    "\n",
    "disp = ConfusionMatrixDisplay(confusion_matrix=result)\n",
    "disp.plot(cmap=\"Reds\")\n",
    "\n",
    "# Ensure directory exists\n",
    "os.makedirs(MODEL_NAME, exist_ok=True)\n",
    "\n",
    "plt.savefig(os.path.join(MODEL_NAME, \"confusionmatrix.png\"))\n",
    "plt.show()\n",
    "\n",
    "with open(os.path.join(MODEL_NAME, \"confusionmatrix.json\"), \"w\") as file:\n",
    "    json.dump(result.tolist(), file)\n",
    "\n",
    "print(f\"Accuracy: {result[0][0] + result[1][1]}\")"
   ]
  }
 ],
 "metadata": {
  "kernelspec": {
   "display_name": "base",
   "language": "python",
   "name": "python3"
  },
  "language_info": {
   "codemirror_mode": {
    "name": "ipython",
    "version": 3
   },
   "file_extension": ".py",
   "mimetype": "text/x-python",
   "name": "python",
   "nbconvert_exporter": "python",
   "pygments_lexer": "ipython3",
   "version": "3.11.5"
  }
 },
 "nbformat": 4,
 "nbformat_minor": 2
}
